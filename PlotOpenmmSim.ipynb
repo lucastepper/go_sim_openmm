{
 "cells": [
  {
   "cell_type": "code",
   "execution_count": null,
   "id": "35d039d7",
   "metadata": {},
   "outputs": [],
   "source": [
    "import numpy as np\n",
    "import nglview as nv\n",
    "import mdtraj as md\n",
    "import matplotlib.pyplot as plt"
   ]
  },
  {
   "cell_type": "code",
   "execution_count": null,
   "id": "746666b6",
   "metadata": {},
   "outputs": [],
   "source": [
    "traj = md.load_hdf5(\"/tmp/traj.h5\")\n",
    "time = np.arange(traj.xyz.shape[0]) * 0.002\n",
    "plt.title(\"Plot trajecteory for last particle\")\n",
    "plt.plot(time, traj.xyz[:, -1, 0], label=\"x\")\n",
    "plt.plot(time, traj.xyz[:, -1, 1], label=\"y\")\n",
    "plt.plot(time, traj.xyz[:, -1, 2], label=\"z\")\n",
    "plt.gca().set(xlabel=\"time [ps]\", ylabel=\"position [nm]\")\n",
    "plt.legend()"
   ]
  },
  {
   "cell_type": "code",
   "execution_count": null,
   "id": "878060e8",
   "metadata": {},
   "outputs": [],
   "source": [
    "view = nv.show_mdtraj(traj)\n",
    "view"
   ]
  },
  {
   "cell_type": "code",
   "execution_count": null,
   "id": "a7a8aa76",
   "metadata": {},
   "outputs": [],
   "source": [
    "# the positions of the trajectory as numpy array\n",
    "traj.xyz.shape"
   ]
  },
  {
   "cell_type": "code",
   "execution_count": null,
   "id": "6bde8adc",
   "metadata": {},
   "outputs": [],
   "source": []
  }
 ],
 "metadata": {
  "kernelspec": {
   "display_name": "Python 3.10.4 ('main')",
   "language": "python",
   "name": "python3"
  },
  "language_info": {
   "codemirror_mode": {
    "name": "ipython",
    "version": 3
   },
   "file_extension": ".py",
   "mimetype": "text/x-python",
   "name": "python",
   "nbconvert_exporter": "python",
   "pygments_lexer": "ipython3",
   "version": "3.10.4"
  },
  "vscode": {
   "interpreter": {
    "hash": "5c59131962f147cae15eb7b7bc999df24f8e14d0f8b6f5163e3f3d0ab1464af9"
   }
  }
 },
 "nbformat": 4,
 "nbformat_minor": 5
}
